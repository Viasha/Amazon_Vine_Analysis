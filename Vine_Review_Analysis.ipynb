{
  "nbformat": 4,
  "nbformat_minor": 0,
  "metadata": {
    "colab": {
      "name": "Vine_Review_Analysis.ipynb",
      "provenance": [],
      "authorship_tag": "ABX9TyN4CgX5XvqZWcl6xeeLffvS",
      "include_colab_link": true
    },
    "kernelspec": {
      "name": "python3",
      "display_name": "Python 3"
    },
    "language_info": {
      "name": "python"
    }
  },
  "cells": [
    {
      "cell_type": "markdown",
      "metadata": {
        "id": "view-in-github",
        "colab_type": "text"
      },
      "source": [
        "<a href=\"https://colab.research.google.com/github/Viasha/Amazon_Vine_Analysis/blob/main/Vine_Review_Analysis.ipynb\" target=\"_parent\"><img src=\"https://colab.research.google.com/assets/colab-badge.svg\" alt=\"Open In Colab\"/></a>"
      ]
    },
    {
      "cell_type": "code",
      "source": [
        "import os\n",
        "# Find the latest version of spark 3.0  from http://www.apache.org/dist/spark/ and enter as the spark version\n",
        "# For example:\n",
        "# spark_version = 'spark-3.0.3'\n",
        "spark_version = 'spark-3.2.1'\n",
        "os.environ['SPARK_VERSION']=spark_version\n",
        "\n",
        "# Install Spark and Java\n",
        "!apt-get update\n",
        "!apt-get install openjdk-11-jdk-headless -qq > /dev/null\n",
        "!wget -q http://www.apache.org/dist/spark/$SPARK_VERSION/$SPARK_VERSION-bin-hadoop2.7.tgz\n",
        "!tar xf $SPARK_VERSION-bin-hadoop2.7.tgz\n",
        "!pip install -q findspark\n",
        "\n",
        "# Set Environment Variables\n",
        "os.environ[\"JAVA_HOME\"] = \"/usr/lib/jvm/java-11-openjdk-amd64\"\n",
        "os.environ[\"SPARK_HOME\"] = f\"/content/{spark_version}-bin-hadoop2.7\"\n",
        "\n",
        "# Start a SparkSession\n",
        "import findspark\n",
        "findspark.init()"
      ],
      "metadata": {
        "colab": {
          "base_uri": "https://localhost:8080/"
        },
        "id": "iXWBhcW3mkOK",
        "outputId": "650bd343-d65b-4a2e-e28b-f111fdb78cf7"
      },
      "execution_count": 3,
      "outputs": [
        {
          "output_type": "stream",
          "name": "stdout",
          "text": [
            "\r0% [Working]\r            \rIgn:1 https://developer.download.nvidia.com/compute/cuda/repos/ubuntu1804/x86_64  InRelease\n",
            "Ign:2 https://developer.download.nvidia.com/compute/machine-learning/repos/ubuntu1804/x86_64  InRelease\n",
            "Hit:3 https://cloud.r-project.org/bin/linux/ubuntu bionic-cran40/ InRelease\n",
            "Hit:4 https://developer.download.nvidia.com/compute/cuda/repos/ubuntu1804/x86_64  Release\n",
            "Hit:5 https://developer.download.nvidia.com/compute/machine-learning/repos/ubuntu1804/x86_64  Release\n",
            "Hit:6 http://ppa.launchpad.net/c2d4u.team/c2d4u4.0+/ubuntu bionic InRelease\n",
            "Hit:7 http://security.ubuntu.com/ubuntu bionic-security InRelease\n",
            "Hit:8 http://archive.ubuntu.com/ubuntu bionic InRelease\n",
            "Hit:9 http://archive.ubuntu.com/ubuntu bionic-updates InRelease\n",
            "Hit:10 http://ppa.launchpad.net/cran/libgit2/ubuntu bionic InRelease\n",
            "Hit:11 http://archive.ubuntu.com/ubuntu bionic-backports InRelease\n",
            "Hit:13 http://ppa.launchpad.net/deadsnakes/ppa/ubuntu bionic InRelease\n",
            "Hit:15 http://ppa.launchpad.net/graphics-drivers/ppa/ubuntu bionic InRelease\n",
            "Reading package lists... Done\n"
          ]
        }
      ]
    },
    {
      "cell_type": "code",
      "source": [
        "from pyspark.sql import SparkSession\n",
        "spark = SparkSession.builder.appName(\"BigData-Challenge\").config(\"spark.driver.extraClassPath\",\"/content/postgresql-42.2.16.jar\").getOrCreate()"
      ],
      "metadata": {
        "id": "4E73rKuZmxGh"
      },
      "execution_count": 4,
      "outputs": []
    },
    {
      "cell_type": "code",
      "source": [
        "from pyspark import SparkFiles\n",
        "url = \"https://s3.amazonaws.com/amazon-reviews-pds/tsv/amazon_reviews_us_Baby_v1_00.tsv.gz\"\n",
        "spark.sparkContext.addFile(url)\n",
        "df = spark.read.csv(SparkFiles.get(\"amazon_reviews_us_Baby_v1_00.tsv.gz\"), sep=\"\\t\", header=True, inferSchema=True)\n",
        "df.show()"
      ],
      "metadata": {
        "colab": {
          "base_uri": "https://localhost:8080/"
        },
        "id": "DBHz2HOEmqSf",
        "outputId": "fed62c5c-65c1-489a-e5d4-1c4090b71afd"
      },
      "execution_count": 5,
      "outputs": [
        {
          "output_type": "stream",
          "name": "stdout",
          "text": [
            "+-----------+-----------+--------------+----------+--------------+--------------------+----------------+-----------+-------------+-----------+----+-----------------+--------------------+--------------------+-----------+\n",
            "|marketplace|customer_id|     review_id|product_id|product_parent|       product_title|product_category|star_rating|helpful_votes|total_votes|vine|verified_purchase|     review_headline|         review_body|review_date|\n",
            "+-----------+-----------+--------------+----------+--------------+--------------------+----------------+-----------+-------------+-----------+----+-----------------+--------------------+--------------------+-----------+\n",
            "|         US|    9970739| R8EWA1OFT84NX|B00GSP5D94|     329991347|Summer Infant Swa...|            Baby|          5|            0|          0|   N|                Y|Great swaddled bl...|Loved these swadd...| 2015-08-31|\n",
            "|         US|   23538442|R2JWY4YRQD4FOP|B00YYDDZGU|     646108902|Pacifier Clip Gir...|            Baby|          5|            0|          0|   N|                N|Too cute and real...|These are adorabl...| 2015-08-31|\n",
            "|         US|    8273344| RL5ESX231LZ0B|B00BUBNZC8|     642922361|Udder Covers - Br...|            Baby|          5|            0|          0|   N|                Y|          Five Stars|          Great gift| 2015-08-31|\n",
            "|         US|   24557753| RRMS9ZWJ2KD08|B00AWLZFTS|     494272733|Gerber Graduates ...|            Baby|          5|            0|          0|   N|                Y|Cute; wash up nic...|These forks are g...| 2015-08-31|\n",
            "|         US|   46263340|R14I3ZG5E6S7YM|B00KM60D3Q|     305813185|Summer Infant Ult...|            Baby|          5|            0|          0|   N|                Y|            Love it!|I wanted somethin...| 2015-08-31|\n",
            "|         US|   24557753|R13EPSFP5DODN5|B00PQMRZG4|     607341708|Summer Infant Kee...|            Baby|          4|            0|          0|   N|                Y|        Rips easily.|Loved with daught...| 2015-08-31|\n",
            "|         US|   33520065| R6RBP4HTE67SY|B005DL5970|     971881542|Natural HE Powder...|            Baby|          5|            0|          0|   N|                Y|Cloth Diaper Dete...|This is a great d...| 2015-08-31|\n",
            "|         US|   20241560|R15B3EU40RSU2W|B00C6D2WL4|      93827401|Dr. Brown's Bottl...|            Baby|          5|            0|          0|   N|                Y|          Five Stars|                good| 2015-08-31|\n",
            "|         US|    9987983| RP4DD53A4ZJA2|B0083973FK|     958629336|Sposie Booster Pa...|            Baby|          5|            0|          0|   N|                Y|          Five Stars|With these my mil...| 2015-08-31|\n",
            "|         US|   52570308|R2C99DJEO4RZ4K|B00RLYG2S2|     147324304|Abiie Beyond Wood...|            Baby|          5|            3|          4|   N|                Y|So far I love thi...|So far I love thi...| 2015-08-31|\n",
            "|         US|    9287389| REV51EW323H8W|B010UX9T5I|     446691106|Lovinglove Baby G...|            Baby|          5|            0|          0|   N|                Y|          Five Stars|           Love them| 2015-08-31|\n",
            "|         US|   32840762|R2GQ3W03WIUZKE|B00VWBY7SC|     271204734|Bugzi Stroller Ho...|            Baby|          5|            0|          0|   N|                Y|Love these hooks ...|Love these hooks ...| 2015-08-31|\n",
            "|         US|    7797182| RTI1YI7K6GE3D|B006ZBPH24|      67911244|Born Free 5 oz. B...|            Baby|          5|            0|          0|   N|                Y|          Five Stars|           very good| 2015-08-31|\n",
            "|         US|   14788115|R3V9C2C0SPSZU6|B00UGV8BEU|     613360092|Baby Bandana Bibs...|            Baby|          5|            0|          0|   N|                Y|            Perfect!|Love these bibs! ...| 2015-08-31|\n",
            "|         US|   37909065|R1LB42XCSSCLV6|B005BIOOYO|     527977399|Flip Stay-Dry Ins...|            Baby|          5|            0|          0|   N|                Y|best inserts for ...|I love these. The...| 2015-08-31|\n",
            "|         US|   15935520|R113NWCW6STTMC|B0071D1AKI|     634188771|Aqueduck The ORIG...|            Baby|          5|            0|          0|   N|                Y|        Very Helpful|This worked exact...| 2015-08-31|\n",
            "|         US|   16308044| RWRN5XK337N41|B00M2F0OYS|     166133791|Motorola Baby Mon...|            Baby|          1|            0|          0|   N|                N|Very Dissapointed...|I am so disappoin...| 2015-08-31|\n",
            "|         US|    8168178| RF4WL3QEP3PVI|B00QCBD5AS|     294351494|Minnie Mouse Delu...|            Baby|          1|            0|          0|   N|                Y|            One Star|Ordered minnie mo...| 2015-08-31|\n",
            "|         US|   23299101|R2DRL5NRODVQ3Z|B00SN6F9NG|       3470998|Rhoost Nail Clipp...|            Baby|          5|            2|          2|   N|                Y|If fits so comfor...|This is an absolu...| 2015-08-31|\n",
            "|         US|   14261025|R3T9B92MDDHKMM|B00J0YTS1E|     488640919|My Natural Owl Mu...|            Baby|          2|            5|          5|   N|                Y|Used to be great....|They changed the ...| 2015-08-31|\n",
            "+-----------+-----------+--------------+----------+--------------+--------------------+----------------+-----------+-------------+-----------+----+-----------------+--------------------+--------------------+-----------+\n",
            "only showing top 20 rows\n",
            "\n"
          ]
        }
      ]
    },
    {
      "cell_type": "code",
      "source": [
        "cleaned_df = df.dropna()\n",
        "cleaned_df.show()"
      ],
      "metadata": {
        "colab": {
          "base_uri": "https://localhost:8080/"
        },
        "id": "g5puMoHUm4aG",
        "outputId": "4a693ec0-b9c4-4995-fcdf-e633743644ec"
      },
      "execution_count": 6,
      "outputs": [
        {
          "output_type": "stream",
          "name": "stdout",
          "text": [
            "+-----------+-----------+--------------+----------+--------------+--------------------+----------------+-----------+-------------+-----------+----+-----------------+--------------------+--------------------+-----------+\n",
            "|marketplace|customer_id|     review_id|product_id|product_parent|       product_title|product_category|star_rating|helpful_votes|total_votes|vine|verified_purchase|     review_headline|         review_body|review_date|\n",
            "+-----------+-----------+--------------+----------+--------------+--------------------+----------------+-----------+-------------+-----------+----+-----------------+--------------------+--------------------+-----------+\n",
            "|         US|    9970739| R8EWA1OFT84NX|B00GSP5D94|     329991347|Summer Infant Swa...|            Baby|          5|            0|          0|   N|                Y|Great swaddled bl...|Loved these swadd...| 2015-08-31|\n",
            "|         US|   23538442|R2JWY4YRQD4FOP|B00YYDDZGU|     646108902|Pacifier Clip Gir...|            Baby|          5|            0|          0|   N|                N|Too cute and real...|These are adorabl...| 2015-08-31|\n",
            "|         US|    8273344| RL5ESX231LZ0B|B00BUBNZC8|     642922361|Udder Covers - Br...|            Baby|          5|            0|          0|   N|                Y|          Five Stars|          Great gift| 2015-08-31|\n",
            "|         US|   24557753| RRMS9ZWJ2KD08|B00AWLZFTS|     494272733|Gerber Graduates ...|            Baby|          5|            0|          0|   N|                Y|Cute; wash up nic...|These forks are g...| 2015-08-31|\n",
            "|         US|   46263340|R14I3ZG5E6S7YM|B00KM60D3Q|     305813185|Summer Infant Ult...|            Baby|          5|            0|          0|   N|                Y|            Love it!|I wanted somethin...| 2015-08-31|\n",
            "|         US|   24557753|R13EPSFP5DODN5|B00PQMRZG4|     607341708|Summer Infant Kee...|            Baby|          4|            0|          0|   N|                Y|        Rips easily.|Loved with daught...| 2015-08-31|\n",
            "|         US|   33520065| R6RBP4HTE67SY|B005DL5970|     971881542|Natural HE Powder...|            Baby|          5|            0|          0|   N|                Y|Cloth Diaper Dete...|This is a great d...| 2015-08-31|\n",
            "|         US|   20241560|R15B3EU40RSU2W|B00C6D2WL4|      93827401|Dr. Brown's Bottl...|            Baby|          5|            0|          0|   N|                Y|          Five Stars|                good| 2015-08-31|\n",
            "|         US|    9987983| RP4DD53A4ZJA2|B0083973FK|     958629336|Sposie Booster Pa...|            Baby|          5|            0|          0|   N|                Y|          Five Stars|With these my mil...| 2015-08-31|\n",
            "|         US|   52570308|R2C99DJEO4RZ4K|B00RLYG2S2|     147324304|Abiie Beyond Wood...|            Baby|          5|            3|          4|   N|                Y|So far I love thi...|So far I love thi...| 2015-08-31|\n",
            "|         US|    9287389| REV51EW323H8W|B010UX9T5I|     446691106|Lovinglove Baby G...|            Baby|          5|            0|          0|   N|                Y|          Five Stars|           Love them| 2015-08-31|\n",
            "|         US|   32840762|R2GQ3W03WIUZKE|B00VWBY7SC|     271204734|Bugzi Stroller Ho...|            Baby|          5|            0|          0|   N|                Y|Love these hooks ...|Love these hooks ...| 2015-08-31|\n",
            "|         US|    7797182| RTI1YI7K6GE3D|B006ZBPH24|      67911244|Born Free 5 oz. B...|            Baby|          5|            0|          0|   N|                Y|          Five Stars|           very good| 2015-08-31|\n",
            "|         US|   14788115|R3V9C2C0SPSZU6|B00UGV8BEU|     613360092|Baby Bandana Bibs...|            Baby|          5|            0|          0|   N|                Y|            Perfect!|Love these bibs! ...| 2015-08-31|\n",
            "|         US|   37909065|R1LB42XCSSCLV6|B005BIOOYO|     527977399|Flip Stay-Dry Ins...|            Baby|          5|            0|          0|   N|                Y|best inserts for ...|I love these. The...| 2015-08-31|\n",
            "|         US|   15935520|R113NWCW6STTMC|B0071D1AKI|     634188771|Aqueduck The ORIG...|            Baby|          5|            0|          0|   N|                Y|        Very Helpful|This worked exact...| 2015-08-31|\n",
            "|         US|   16308044| RWRN5XK337N41|B00M2F0OYS|     166133791|Motorola Baby Mon...|            Baby|          1|            0|          0|   N|                N|Very Dissapointed...|I am so disappoin...| 2015-08-31|\n",
            "|         US|    8168178| RF4WL3QEP3PVI|B00QCBD5AS|     294351494|Minnie Mouse Delu...|            Baby|          1|            0|          0|   N|                Y|            One Star|Ordered minnie mo...| 2015-08-31|\n",
            "|         US|   23299101|R2DRL5NRODVQ3Z|B00SN6F9NG|       3470998|Rhoost Nail Clipp...|            Baby|          5|            2|          2|   N|                Y|If fits so comfor...|This is an absolu...| 2015-08-31|\n",
            "|         US|   14261025|R3T9B92MDDHKMM|B00J0YTS1E|     488640919|My Natural Owl Mu...|            Baby|          2|            5|          5|   N|                Y|Used to be great....|They changed the ...| 2015-08-31|\n",
            "+-----------+-----------+--------------+----------+--------------+--------------------+----------------+-----------+-------------+-----------+----+-----------------+--------------------+--------------------+-----------+\n",
            "only showing top 20 rows\n",
            "\n"
          ]
        }
      ]
    },
    {
      "cell_type": "code",
      "source": [
        "# Create the vine_table. DataFrame\n",
        "vine_df = cleaned_df.select([\"review_id\",\"star_rating\", \"helpful_votes\",\"total_votes\",\"vine\",\"verified_purchase\"])\n",
        "vine_df.show()"
      ],
      "metadata": {
        "colab": {
          "base_uri": "https://localhost:8080/"
        },
        "id": "8T-7tJXnm7eL",
        "outputId": "d2880006-2ff0-4620-aeff-08f326926f53"
      },
      "execution_count": 7,
      "outputs": [
        {
          "output_type": "stream",
          "name": "stdout",
          "text": [
            "+--------------+-----------+-------------+-----------+----+-----------------+\n",
            "|     review_id|star_rating|helpful_votes|total_votes|vine|verified_purchase|\n",
            "+--------------+-----------+-------------+-----------+----+-----------------+\n",
            "| R8EWA1OFT84NX|          5|            0|          0|   N|                Y|\n",
            "|R2JWY4YRQD4FOP|          5|            0|          0|   N|                N|\n",
            "| RL5ESX231LZ0B|          5|            0|          0|   N|                Y|\n",
            "| RRMS9ZWJ2KD08|          5|            0|          0|   N|                Y|\n",
            "|R14I3ZG5E6S7YM|          5|            0|          0|   N|                Y|\n",
            "|R13EPSFP5DODN5|          4|            0|          0|   N|                Y|\n",
            "| R6RBP4HTE67SY|          5|            0|          0|   N|                Y|\n",
            "|R15B3EU40RSU2W|          5|            0|          0|   N|                Y|\n",
            "| RP4DD53A4ZJA2|          5|            0|          0|   N|                Y|\n",
            "|R2C99DJEO4RZ4K|          5|            3|          4|   N|                Y|\n",
            "| REV51EW323H8W|          5|            0|          0|   N|                Y|\n",
            "|R2GQ3W03WIUZKE|          5|            0|          0|   N|                Y|\n",
            "| RTI1YI7K6GE3D|          5|            0|          0|   N|                Y|\n",
            "|R3V9C2C0SPSZU6|          5|            0|          0|   N|                Y|\n",
            "|R1LB42XCSSCLV6|          5|            0|          0|   N|                Y|\n",
            "|R113NWCW6STTMC|          5|            0|          0|   N|                Y|\n",
            "| RWRN5XK337N41|          1|            0|          0|   N|                N|\n",
            "| RF4WL3QEP3PVI|          1|            0|          0|   N|                Y|\n",
            "|R2DRL5NRODVQ3Z|          5|            2|          2|   N|                Y|\n",
            "|R3T9B92MDDHKMM|          2|            5|          5|   N|                Y|\n",
            "+--------------+-----------+-------------+-----------+----+-----------------+\n",
            "only showing top 20 rows\n",
            "\n"
          ]
        }
      ]
    },
    {
      "cell_type": "code",
      "source": [
        "# Step 1: Filter the data and create a new DataFrame or table to retrieve all the rows where the total_votes count is equal to or greater than 20\n",
        "from pyspark.sql.functions import col\n",
        "total_votes_df = vine_df.filter(col(\"total_votes\") >= 20)\n",
        "total_votes_df.show()"
      ],
      "metadata": {
        "colab": {
          "base_uri": "https://localhost:8080/"
        },
        "id": "n65t2jhJm8aB",
        "outputId": "ee0da23c-6d7b-4b94-a353-9737a00a46a2"
      },
      "execution_count": 8,
      "outputs": [
        {
          "output_type": "stream",
          "name": "stdout",
          "text": [
            "+--------------+-----------+-------------+-----------+----+-----------------+\n",
            "|     review_id|star_rating|helpful_votes|total_votes|vine|verified_purchase|\n",
            "+--------------+-----------+-------------+-----------+----+-----------------+\n",
            "| ROI00QN8IS49I|          5|           83|         91|   N|                N|\n",
            "|R13C5INE1RTZP6|          2|           26|         26|   N|                Y|\n",
            "| RXVMMXCL67MZN|          4|          378|        383|   N|                Y|\n",
            "|R33JJQWAUYBKD3|          5|          270|        280|   N|                Y|\n",
            "|R3N0XV9267NOXV|          5|           41|         47|   Y|                N|\n",
            "|R31HQD6YXSQV1W|          3|           40|         48|   N|                Y|\n",
            "|R33LQSF958O6K8|          5|           39|         41|   N|                Y|\n",
            "|R3OIDSQJ84W7J1|          5|           21|         24|   N|                N|\n",
            "|R3UUR313K5VVTL|          1|            1|         24|   N|                Y|\n",
            "| RODE8K12S7148|          5|           41|         45|   N|                Y|\n",
            "|R2QZFYFUKP22SP|          5|           33|         37|   N|                Y|\n",
            "| RFON10GAZKDL3|          3|           16|         20|   N|                Y|\n",
            "|R2UXKAUFMPE0PJ|          1|           29|         29|   N|                N|\n",
            "|R20YYYGIRVB7F1|          1|           32|         41|   N|                N|\n",
            "|R36065K853ACRA|          3|           28|         34|   N|                Y|\n",
            "| RBS6RYHXL83L8|          5|           49|         57|   N|                Y|\n",
            "|R2D5JAVXATJOQB|          4|           45|         48|   N|                Y|\n",
            "|R1SUS9Y51N3QO8|          1|           42|         46|   N|                N|\n",
            "|R3DKDS7674IU4Z|          5|           29|         31|   N|                N|\n",
            "|R3VER1GSR74AHB|          4|           38|         39|   N|                Y|\n",
            "+--------------+-----------+-------------+-----------+----+-----------------+\n",
            "only showing top 20 rows\n",
            "\n"
          ]
        }
      ]
    },
    {
      "cell_type": "code",
      "source": [
        "# Step 2: Retrieve all the rows where the number of helpful_votes divided by total_votes is equal to or greater than 50%.\n",
        "percent_votes_df = total_votes_df.withColumn('percent_votes',col('helpful_votes')/col('total_votes')).alias('percent_votes').filter(col(\"percent_votes\") >= 0.5)\n",
        "percent_votes_df.show()"
      ],
      "metadata": {
        "colab": {
          "base_uri": "https://localhost:8080/"
        },
        "id": "7-Jpa6aQnD9c",
        "outputId": "15344b76-d5dd-4fa9-92fc-38e589d59f26"
      },
      "execution_count": 9,
      "outputs": [
        {
          "output_type": "stream",
          "name": "stdout",
          "text": [
            "+--------------+-----------+-------------+-----------+----+-----------------+------------------+\n",
            "|     review_id|star_rating|helpful_votes|total_votes|vine|verified_purchase|     percent_votes|\n",
            "+--------------+-----------+-------------+-----------+----+-----------------+------------------+\n",
            "| ROI00QN8IS49I|          5|           83|         91|   N|                N|0.9120879120879121|\n",
            "|R13C5INE1RTZP6|          2|           26|         26|   N|                Y|               1.0|\n",
            "| RXVMMXCL67MZN|          4|          378|        383|   N|                Y|0.9869451697127938|\n",
            "|R33JJQWAUYBKD3|          5|          270|        280|   N|                Y|0.9642857142857143|\n",
            "|R3N0XV9267NOXV|          5|           41|         47|   Y|                N|0.8723404255319149|\n",
            "|R31HQD6YXSQV1W|          3|           40|         48|   N|                Y|0.8333333333333334|\n",
            "|R33LQSF958O6K8|          5|           39|         41|   N|                Y|0.9512195121951219|\n",
            "|R3OIDSQJ84W7J1|          5|           21|         24|   N|                N|             0.875|\n",
            "| RODE8K12S7148|          5|           41|         45|   N|                Y|0.9111111111111111|\n",
            "|R2QZFYFUKP22SP|          5|           33|         37|   N|                Y|0.8918918918918919|\n",
            "| RFON10GAZKDL3|          3|           16|         20|   N|                Y|               0.8|\n",
            "|R2UXKAUFMPE0PJ|          1|           29|         29|   N|                N|               1.0|\n",
            "|R20YYYGIRVB7F1|          1|           32|         41|   N|                N|0.7804878048780488|\n",
            "|R36065K853ACRA|          3|           28|         34|   N|                Y|0.8235294117647058|\n",
            "| RBS6RYHXL83L8|          5|           49|         57|   N|                Y|0.8596491228070176|\n",
            "|R2D5JAVXATJOQB|          4|           45|         48|   N|                Y|            0.9375|\n",
            "|R1SUS9Y51N3QO8|          1|           42|         46|   N|                N|0.9130434782608695|\n",
            "|R3DKDS7674IU4Z|          5|           29|         31|   N|                N|0.9354838709677419|\n",
            "|R3VER1GSR74AHB|          4|           38|         39|   N|                Y|0.9743589743589743|\n",
            "| R4KKILPJRQ2J5|          1|           12|         20|   N|                Y|               0.6|\n",
            "+--------------+-----------+-------------+-----------+----+-----------------+------------------+\n",
            "only showing top 20 rows\n",
            "\n"
          ]
        }
      ]
    },
    {
      "cell_type": "code",
      "source": [
        "# Step 3: Retrieves all the rows where a review was written as part of the Vine program (paid)\n",
        "paid_df = percent_votes_df.filter(col(\"vine\") == \"Y\").show()"
      ],
      "metadata": {
        "colab": {
          "base_uri": "https://localhost:8080/"
        },
        "id": "XFVKZtZYnGc6",
        "outputId": "2c2df894-7c9b-4202-e23c-ac347f0d32e2"
      },
      "execution_count": 10,
      "outputs": [
        {
          "output_type": "stream",
          "name": "stdout",
          "text": [
            "+--------------+-----------+-------------+-----------+----+-----------------+------------------+\n",
            "|     review_id|star_rating|helpful_votes|total_votes|vine|verified_purchase|     percent_votes|\n",
            "+--------------+-----------+-------------+-----------+----+-----------------+------------------+\n",
            "|R3N0XV9267NOXV|          5|           41|         47|   Y|                N|0.8723404255319149|\n",
            "| RSA6JQ346JZHZ|          5|           55|         64|   Y|                Y|          0.859375|\n",
            "|R1FXF4HRMCLG4C|          5|           69|         84|   Y|                N|0.8214285714285714|\n",
            "| RCTBWC3II42MG|          4|          113|        117|   Y|                N|0.9658119658119658|\n",
            "| RTMQM2CQ1XIZ0|          5|           21|         25|   Y|                N|              0.84|\n",
            "|R2CBJLCKQ612KU|          4|           27|         35|   Y|                N|0.7714285714285715|\n",
            "|R322QDGO4AV2B5|          5|           55|         65|   Y|                N|0.8461538461538461|\n",
            "| R2S7CXRDGQ6EE|          4|           36|         39|   Y|                N|0.9230769230769231|\n",
            "|R3ECMXK0SGR1VV|          5|           59|         64|   Y|                N|          0.921875|\n",
            "|R3D55CPJ6J6Z78|          4|           15|         20|   Y|                N|              0.75|\n",
            "|R1Y9OYIUCP3WD2|          4|           20|         20|   Y|                N|               1.0|\n",
            "| RT8AV0IB2PGHH|          4|          108|        132|   Y|                N|0.8181818181818182|\n",
            "|R2RLHJRJD9B0NX|          3|           44|         47|   Y|                N|0.9361702127659575|\n",
            "| RAPD7IX0LPZ10|          4|           36|         37|   Y|                N| 0.972972972972973|\n",
            "|R37QPCBNR07PPR|          1|           22|         27|   Y|                N|0.8148148148148148|\n",
            "|R3BRFPK8N59XPY|          5|          364|        395|   Y|                N|0.9215189873417722|\n",
            "|R1WE59I775L7L9|          4|           31|         33|   Y|                N|0.9393939393939394|\n",
            "| RO8IGQJV1PKCJ|          5|           78|         84|   Y|                N|0.9285714285714286|\n",
            "| RWZDJT9MQP6A4|          5|           86|         97|   Y|                N|0.8865979381443299|\n",
            "|R2VDXEVKFSJU36|          5|           20|         22|   Y|                N|0.9090909090909091|\n",
            "+--------------+-----------+-------------+-----------+----+-----------------+------------------+\n",
            "only showing top 20 rows\n",
            "\n"
          ]
        }
      ]
    },
    {
      "cell_type": "code",
      "source": [
        "# Step 4: Retrieves all the rows where the review was not part of the Vine program (unpaid)\n",
        "non_paid_df = percent_votes_df.filter(col(\"vine\") == \"N\").show()"
      ],
      "metadata": {
        "colab": {
          "base_uri": "https://localhost:8080/"
        },
        "id": "-aqY-qULnJEK",
        "outputId": "b2773ac5-0d1c-4f8f-a304-c9d4bb8d7167"
      },
      "execution_count": 11,
      "outputs": [
        {
          "output_type": "stream",
          "name": "stdout",
          "text": [
            "+--------------+-----------+-------------+-----------+----+-----------------+------------------+\n",
            "|     review_id|star_rating|helpful_votes|total_votes|vine|verified_purchase|     percent_votes|\n",
            "+--------------+-----------+-------------+-----------+----+-----------------+------------------+\n",
            "| ROI00QN8IS49I|          5|           83|         91|   N|                N|0.9120879120879121|\n",
            "|R13C5INE1RTZP6|          2|           26|         26|   N|                Y|               1.0|\n",
            "| RXVMMXCL67MZN|          4|          378|        383|   N|                Y|0.9869451697127938|\n",
            "|R33JJQWAUYBKD3|          5|          270|        280|   N|                Y|0.9642857142857143|\n",
            "|R31HQD6YXSQV1W|          3|           40|         48|   N|                Y|0.8333333333333334|\n",
            "|R33LQSF958O6K8|          5|           39|         41|   N|                Y|0.9512195121951219|\n",
            "|R3OIDSQJ84W7J1|          5|           21|         24|   N|                N|             0.875|\n",
            "| RODE8K12S7148|          5|           41|         45|   N|                Y|0.9111111111111111|\n",
            "|R2QZFYFUKP22SP|          5|           33|         37|   N|                Y|0.8918918918918919|\n",
            "| RFON10GAZKDL3|          3|           16|         20|   N|                Y|               0.8|\n",
            "|R2UXKAUFMPE0PJ|          1|           29|         29|   N|                N|               1.0|\n",
            "|R20YYYGIRVB7F1|          1|           32|         41|   N|                N|0.7804878048780488|\n",
            "|R36065K853ACRA|          3|           28|         34|   N|                Y|0.8235294117647058|\n",
            "| RBS6RYHXL83L8|          5|           49|         57|   N|                Y|0.8596491228070176|\n",
            "|R2D5JAVXATJOQB|          4|           45|         48|   N|                Y|            0.9375|\n",
            "|R1SUS9Y51N3QO8|          1|           42|         46|   N|                N|0.9130434782608695|\n",
            "|R3DKDS7674IU4Z|          5|           29|         31|   N|                N|0.9354838709677419|\n",
            "|R3VER1GSR74AHB|          4|           38|         39|   N|                Y|0.9743589743589743|\n",
            "| R4KKILPJRQ2J5|          1|           12|         20|   N|                Y|               0.6|\n",
            "| RE1XO71W5US5S|          1|           28|         30|   N|                Y|0.9333333333333333|\n",
            "+--------------+-----------+-------------+-----------+----+-----------------+------------------+\n",
            "only showing top 20 rows\n",
            "\n"
          ]
        }
      ]
    },
    {
      "cell_type": "code",
      "source": [
        "# Step 5: Determine the total number of reviews, the number of 5-star reviews, and the percentage of 5-star reviews for the two types of review (paid vs unpaid).\n",
        "\n",
        "from pyspark.sql.functions import col,when,count,lit\n",
        "ratings_total_df = percent_votes_df.groupBy(\"vine\").agg(\n",
        "    count(col(\"vine\")).alias(\"Total_Reviews\"),\n",
        "    count(when(col(\"star_rating\") == 5, True)).alias(\"Total_5_Star_Reviews\"),\n",
        "    (count(when(col(\"star_rating\") == 5, True))/count(col(\"vine\"))*100).alias(\"%_5_Star_To_Total\")).show()"
      ],
      "metadata": {
        "colab": {
          "base_uri": "https://localhost:8080/"
        },
        "id": "AMLtbjCknL3-",
        "outputId": "d49a9e2d-961f-4775-ca43-20fc3a51844d"
      },
      "execution_count": 12,
      "outputs": [
        {
          "output_type": "stream",
          "name": "stdout",
          "text": [
            "+----+-------------+--------------------+------------------+\n",
            "|vine|Total_Reviews|Total_5_Star_Reviews| %_5_Star_To_Total|\n",
            "+----+-------------+--------------------+------------------+\n",
            "|   Y|          463|                 202|43.628509719222464|\n",
            "|   N|        25079|               12028| 47.96044499381953|\n",
            "+----+-------------+--------------------+------------------+\n",
            "\n"
          ]
        }
      ]
    }
  ]
}